{
  "nbformat": 4,
  "nbformat_minor": 0,
  "metadata": {
    "colab": {
      "name": "DecisionTreeClassifier.ipynb",
      "provenance": [],
      "collapsed_sections": [],
      "authorship_tag": "ABX9TyPOYIBVdIT/li+Qewlu8Ppc",
      "include_colab_link": true
    },
    "kernelspec": {
      "name": "python3",
      "display_name": "Python 3"
    },
    "language_info": {
      "name": "python"
    }
  },
  "cells": [
    {
      "cell_type": "markdown",
      "metadata": {
        "id": "view-in-github",
        "colab_type": "text"
      },
      "source": [
        "<a href=\"https://colab.research.google.com/github/peefeeyatko/decision-tree-classifier/blob/main/DecisionTreeClassifier.ipynb\" target=\"_parent\"><img src=\"https://colab.research.google.com/assets/colab-badge.svg\" alt=\"Open In Colab\"/></a>"
      ]
    },
    {
      "cell_type": "markdown",
      "metadata": {
        "id": "Fyt_XgFb08uM"
      },
      "source": [
        "# **Implementation of CART Decision Tree Algorithm**"
      ]
    },
    {
      "cell_type": "markdown",
      "metadata": {
        "id": "L5ljnlKpZdLu"
      },
      "source": [
        "The problem this Decision Tree algorithm solves involves predicting whether a banknote is authentic or not. \n",
        "\n",
        "The dataset provides a number of samples of banknotes and their measurements taken from a very detailed photograph.\n",
        "\n",
        "Each data sample is categorized into one of two classifications: 1 (authentic) or 0 (inauthentic), making this a binary classification problem."
      ]
    },
    {
      "cell_type": "markdown",
      "metadata": {
        "id": "Ip46o3qSb4u4"
      },
      "source": [
        "### **Initial setup and data preprocessing**"
      ]
    },
    {
      "cell_type": "code",
      "metadata": {
        "id": "zCKHvnh00T4b"
      },
      "source": [
        "import enum\n",
        "import random\n",
        "from urllib.request import urlopen\n",
        "\n",
        "# get the raw data in csv format\n",
        "data = urlopen('https://archive.ics.uci.edu/ml/machine-learning-databases/00267/data_banknote_authentication.txt')\n",
        "\n",
        "# initial list to store each sample\n",
        "dataset = []\n",
        "\n",
        "# iterate over the raw data and append each sample to the dataset\n",
        "for line in data:\n",
        "    sample = line.decode('utf-8')\n",
        "    sample = sample.split(',')\n",
        "\n",
        "    for i in range(len(sample)):\n",
        "      if i < 4:\n",
        "        # cast attributes/features as floats\n",
        "        sample[i] = float(sample[i])\n",
        "      else:\n",
        "        # strip class label of any trailing characters\n",
        "        sample[i] = sample[i].rstrip()\n",
        "    \n",
        "    # append preprocessed sample to dataset\n",
        "    dataset.append(sample)"
      ],
      "execution_count": null,
      "outputs": []
    },
    {
      "cell_type": "markdown",
      "metadata": {
        "id": "-IHjcxw1cmXH"
      },
      "source": [
        "### **Explore the dataset**"
      ]
    },
    {
      "cell_type": "code",
      "metadata": {
        "id": "v8B-8vYe1sty",
        "colab": {
          "base_uri": "https://localhost:8080/"
        },
        "outputId": "35fdf247-dca2-4cd5-f17a-b6006ad98202"
      },
      "source": [
        "# attribute names / column headers\n",
        "attr_names = [\"variance\", \"skewness\", \"curtosis\", \"entropy\", \"label\"]\n",
        "\n",
        "# print out the first and last data samples\n",
        "print(dataset[0])\n",
        "print(dataset[-1])"
      ],
      "execution_count": null,
      "outputs": [
        {
          "output_type": "stream",
          "name": "stdout",
          "text": [
            "[3.6216, 8.6661, -2.8073, -0.44699, '0']\n",
            "[-2.5419, -0.65804, 2.6842, 1.1952, '1']\n"
          ]
        }
      ]
    },
    {
      "cell_type": "markdown",
      "metadata": {
        "id": "yf_pWuFLcqjZ"
      },
      "source": [
        "### **Partition data into training and testing sets**"
      ]
    },
    {
      "cell_type": "code",
      "metadata": {
        "colab": {
          "base_uri": "https://localhost:8080/"
        },
        "id": "FhJf9LlHAkxX",
        "outputId": "128f48ef-e2f5-4633-ba40-c2efd5c6583d"
      },
      "source": [
        "# partition the dataset into training and testing sets\n",
        "training = []\n",
        "testing = []\n",
        "\n",
        "# shuffle the dataset so the label distribution is more mixed\n",
        "random.shuffle(dataset)\n",
        "\n",
        "# split 80% into training and remainder into testing\n",
        "split = round(len(dataset) * 0.8)\n",
        "training = dataset[0:split]\n",
        "testing = dataset[split:]\n",
        "\n",
        "print(\"Number of training samples: \", len(training))\n",
        "print(\"Number of testing samples: \", len(testing))"
      ],
      "execution_count": null,
      "outputs": [
        {
          "output_type": "stream",
          "name": "stdout",
          "text": [
            "Number of training samples:  1098\n",
            "Number of testing samples:  274\n"
          ]
        }
      ]
    },
    {
      "cell_type": "markdown",
      "metadata": {
        "id": "qi2XKzUuc4aY"
      },
      "source": [
        "### **Algorithm implementation**"
      ]
    },
    {
      "cell_type": "code",
      "metadata": {
        "id": "hAVMIqCzUZIh"
      },
      "source": [
        "# use a enum to reference full classification name\n",
        "class Classification(enum.Enum):\n",
        "    inauthentic = '0'\n",
        "    authentic = '1'"
      ],
      "execution_count": null,
      "outputs": []
    },
    {
      "cell_type": "code",
      "metadata": {
        "id": "LH6vyo_d2ZUx"
      },
      "source": [
        "def class_counts(rows):\n",
        "    \"\"\"Returns a dictionary with distinct labels and their count.\"\"\"\n",
        "    counts = {}\n",
        "    for row in rows:\n",
        "        # in the banknote dataset the label is the last column\n",
        "        label = Classification(row[-1]).name\n",
        "        if label not in counts:\n",
        "            counts[label] = 0\n",
        "        counts[label] += 1\n",
        "    return counts"
      ],
      "execution_count": null,
      "outputs": []
    },
    {
      "cell_type": "code",
      "metadata": {
        "colab": {
          "base_uri": "https://localhost:8080/"
        },
        "id": "rw9Bhni-2htR",
        "outputId": "de9c944b-ae98-44cd-8b7c-c8bf880cc0ba"
      },
      "source": [
        "# display the amount of each class/label in the training data\n",
        "class_counts(training)"
      ],
      "execution_count": null,
      "outputs": [
        {
          "output_type": "execute_result",
          "data": {
            "text/plain": [
              "{'authentic': 479, 'inauthentic': 619}"
            ]
          },
          "metadata": {},
          "execution_count": 7
        }
      ]
    },
    {
      "cell_type": "code",
      "metadata": {
        "id": "gbGCfacp5K3l"
      },
      "source": [
        "class Question:\n",
        "    \"\"\"A Question is used to partition the dataset.\"\"\"\n",
        "\n",
        "    def __init__(self, column, value):\n",
        "        self.column = column\n",
        "        self.value = value\n",
        "\n",
        "    def match(self, example):\n",
        "        # compare the feature value in an example to the\n",
        "        # feature value in this question.\n",
        "        val = example[self.column]\n",
        "        if isinstance(val, int) or isinstance(val, float):\n",
        "            return val >= self.value\n",
        "        else:\n",
        "            return val == self.value\n",
        "\n",
        "    def __repr__(self):\n",
        "      # format the question for printing in the display_tree function\n",
        "      return '{0} >= {1}'.format(attr_names[self.column], self.value)"
      ],
      "execution_count": null,
      "outputs": []
    },
    {
      "cell_type": "code",
      "metadata": {
        "id": "pnPcEGto97iV"
      },
      "source": [
        "def partition_at_node(rows, question):\n",
        "    \"\"\"Partition and return two subsets, \n",
        "    the true rows and false rows based on the question\"\"\"\n",
        "    true_rows = [] \n",
        "    false_rows = []\n",
        "    for row in rows:\n",
        "        if question.match(row):\n",
        "            true_rows.append(row)\n",
        "        else:\n",
        "            false_rows.append(row)\n",
        "    return true_rows, false_rows"
      ],
      "execution_count": null,
      "outputs": []
    },
    {
      "cell_type": "code",
      "metadata": {
        "id": "3qjQbtdbAOA5"
      },
      "source": [
        "def gini_impurity(rows):\n",
        "    \"\"\"Subtracting the sum of squared probabilites from 1\"\"\"\n",
        "    counts = class_counts(rows)\n",
        "    impurity = 1\n",
        "    for lbl in counts:\n",
        "        prob_of_lbl = counts[lbl] / float(len(rows))\n",
        "        impurity -= prob_of_lbl ** 2\n",
        "    return impurity"
      ],
      "execution_count": null,
      "outputs": []
    },
    {
      "cell_type": "code",
      "metadata": {
        "id": "0KM879-6DB4j"
      },
      "source": [
        "def information_gain(left, right, current_uncertainty):\n",
        "    \"\"\"Calculates a weighted average of the uncertainties\n",
        "    and then subtracts from the current uncertainty\"\"\"\n",
        "    p = float(len(left)) / (len(left) + len(right))\n",
        "    return current_uncertainty - p * gini_impurity(left) - (1 - p) * gini_impurity(right)"
      ],
      "execution_count": null,
      "outputs": []
    },
    {
      "cell_type": "code",
      "metadata": {
        "id": "J2xTDpmhD5PD"
      },
      "source": [
        "def find_best_split(rows):\n",
        "    \"\"\"Find the best question to ask by iterating over every feature / value\n",
        "    and calculating the information gain.\"\"\"\n",
        "    best_gain = 0\n",
        "    best_question = None\n",
        "    current_uncertainty = gini_impurity(rows)\n",
        "    n_features = len(rows[0]) - 1  # number of columns\n",
        "\n",
        "    for col in range(n_features):\n",
        "\n",
        "        values = set([row[col] for row in rows])  # unique values in the column\n",
        "\n",
        "        for val in values:\n",
        "            # ask a question\n",
        "            question = Question(col, val)\n",
        "\n",
        "            # try splitting the dataset\n",
        "            true_rows, false_rows = partition_at_node(rows, question)\n",
        "\n",
        "            # skip this split if it doesn't divide the dataset\n",
        "            if len(true_rows) == 0 or len(false_rows) == 0:\n",
        "                continue\n",
        "\n",
        "            # calculate the information gain from this split\n",
        "            gain = information_gain(true_rows, false_rows, current_uncertainty)\n",
        "\n",
        "            # update best gain and question\n",
        "            if gain >= best_gain:\n",
        "                best_gain, best_question = gain, question\n",
        "\n",
        "    return best_gain, best_question"
      ],
      "execution_count": null,
      "outputs": []
    },
    {
      "cell_type": "code",
      "metadata": {
        "id": "NGOH9jF5EAti"
      },
      "source": [
        "class Leaf:\n",
        "    \"\"\"A Leaf node classifies data.\"\"\"\n",
        "\n",
        "    def __init__(self, rows):\n",
        "        self.predictions = class_counts(rows)\n",
        "        self.label = rows[0][-1]"
      ],
      "execution_count": null,
      "outputs": []
    },
    {
      "cell_type": "code",
      "metadata": {
        "id": "nZES5bS9EAz9"
      },
      "source": [
        "class Decision_Node:\n",
        "    \"\"\"A Decision Node asks a question.\n",
        "\n",
        "    This holds a reference to the question and the two child nodes.\n",
        "    \"\"\"\n",
        "\n",
        "    def __init__(self,\n",
        "                 question,\n",
        "                 true_branch,\n",
        "                 false_branch):\n",
        "        self.question = question\n",
        "        self.true_branch = true_branch\n",
        "        self.false_branch = false_branch"
      ],
      "execution_count": null,
      "outputs": []
    },
    {
      "cell_type": "code",
      "metadata": {
        "id": "9Zuq5q5dEA6I"
      },
      "source": [
        "def build_dt(rows):\n",
        "    \"\"\"Build a decision tree using recursion\"\"\"\n",
        "\n",
        "    # try split the dataset\n",
        "    # calculate the information gain\n",
        "    # and return the question that produces the highest gain\n",
        "    gain, question = find_best_split(rows)\n",
        "\n",
        "    # base case - no further information gain\n",
        "    # return a leaf\n",
        "    if gain == 0:\n",
        "        return Leaf(rows)\n",
        "\n",
        "    # if we reach here we have found a useful feature / value\n",
        "    # to partition on\n",
        "    true_rows, false_rows = partition_at_node(rows, question)\n",
        "\n",
        "    # recursively build the true branch\n",
        "    true_branch = build_dt(true_rows)\n",
        "\n",
        "    # recursively build the false branch\n",
        "    false_branch = build_dt(false_rows)\n",
        "\n",
        "    # return a decision node\n",
        "    # this records the best feature / value to ask at this point,\n",
        "    # as well as the branches to follow\n",
        "    # depending on the answer\n",
        "    return Decision_Node(question, true_branch, false_branch)"
      ],
      "execution_count": null,
      "outputs": []
    },
    {
      "cell_type": "code",
      "metadata": {
        "id": "Oc1yajBfEBAK"
      },
      "source": [
        "def classify(row, node):\n",
        "    \"\"\"Recursively move through the decision tree nodes until a leaf is reached\"\"\"\n",
        "\n",
        "    # base case - return label of leaf\n",
        "    if isinstance(node, Leaf):\n",
        "        return node.label\n",
        "\n",
        "    # determine whether to follow the true or false branch\n",
        "    if node.question.match(row):\n",
        "        return classify(row, node.true_branch)\n",
        "    else:\n",
        "        return classify(row, node.false_branch)"
      ],
      "execution_count": null,
      "outputs": []
    },
    {
      "cell_type": "markdown",
      "metadata": {
        "id": "lMYNOzCrUAOY"
      },
      "source": [
        "### **Build Decision Tree and Output**"
      ]
    },
    {
      "cell_type": "code",
      "metadata": {
        "id": "AF4WFIgyGCmO"
      },
      "source": [
        "# build the decision tree classifier with the training samples\n",
        "dtc = build_dt(training)"
      ],
      "execution_count": null,
      "outputs": []
    },
    {
      "cell_type": "code",
      "metadata": {
        "colab": {
          "base_uri": "https://localhost:8080/"
        },
        "id": "aJTBZiaXPRs2",
        "outputId": "de2e3b52-2a00-40b4-db55-87a0b6c9e631"
      },
      "source": [
        "def display_tree(node, spacing=\"\"):\n",
        "    # base case - reached a leaf\n",
        "    if isinstance(node, Leaf):\n",
        "        print(spacing + \"Prediction:\", Classification(node.label).name)\n",
        "        return\n",
        "\n",
        "    # print the question at this node\n",
        "    print(spacing + str(node.question))\n",
        "\n",
        "    # recursively print the true branch\n",
        "    print(spacing + '==> True:')\n",
        "    display_tree(node.true_branch, spacing + \"\\t\")\n",
        "\n",
        "    # recursively print the false branch\n",
        "    print(spacing + '==> False:')\n",
        "    display_tree(node.false_branch, spacing + \"\\t\")\n",
        "\n",
        "display_tree(dtc)"
      ],
      "execution_count": null,
      "outputs": [
        {
          "output_type": "stream",
          "name": "stdout",
          "text": [
            "variance >= 0.3223\n",
            "==> True:\n",
            "\tcurtosis >= -4.3839\n",
            "\t==> True:\n",
            "\t\tvariance >= 1.594\n",
            "\t\t==> True:\n",
            "\t\t\tvariance >= 2.0421\n",
            "\t\t\t==> True:\n",
            "\t\t\t\tPrediction: inauthentic\n",
            "\t\t\t==> False:\n",
            "\t\t\t\tcurtosis >= -2.3386\n",
            "\t\t\t\t==> True:\n",
            "\t\t\t\t\tPrediction: inauthentic\n",
            "\t\t\t\t==> False:\n",
            "\t\t\t\t\tentropy >= -1.7207\n",
            "\t\t\t\t\t==> True:\n",
            "\t\t\t\t\t\tPrediction: authentic\n",
            "\t\t\t\t\t==> False:\n",
            "\t\t\t\t\t\tPrediction: inauthentic\n",
            "\t\t==> False:\n",
            "\t\t\tcurtosis >= -2.2718\n",
            "\t\t\t==> True:\n",
            "\t\t\t\tentropy >= 0.23447\n",
            "\t\t\t\t==> True:\n",
            "\t\t\t\t\tcurtosis >= 0.46497\n",
            "\t\t\t\t\t==> True:\n",
            "\t\t\t\t\t\tentropy >= 1.1008\n",
            "\t\t\t\t\t\t==> True:\n",
            "\t\t\t\t\t\t\tPrediction: authentic\n",
            "\t\t\t\t\t\t==> False:\n",
            "\t\t\t\t\t\t\tPrediction: inauthentic\n",
            "\t\t\t\t\t==> False:\n",
            "\t\t\t\t\t\tPrediction: authentic\n",
            "\t\t\t\t==> False:\n",
            "\t\t\t\t\tPrediction: inauthentic\n",
            "\t\t\t==> False:\n",
            "\t\t\t\tskewness >= 7.7763\n",
            "\t\t\t\t==> True:\n",
            "\t\t\t\t\tPrediction: inauthentic\n",
            "\t\t\t\t==> False:\n",
            "\t\t\t\t\tPrediction: authentic\n",
            "\t==> False:\n",
            "\t\tskewness >= 9.1814\n",
            "\t\t==> True:\n",
            "\t\t\tPrediction: inauthentic\n",
            "\t\t==> False:\n",
            "\t\t\tPrediction: authentic\n",
            "==> False:\n",
            "\tskewness >= 7.0521\n",
            "\t==> True:\n",
            "\t\tvariance >= -2.7143\n",
            "\t\t==> True:\n",
            "\t\t\tPrediction: inauthentic\n",
            "\t\t==> False:\n",
            "\t\t\tentropy >= -0.91639\n",
            "\t\t\t==> True:\n",
            "\t\t\t\tPrediction: inauthentic\n",
            "\t\t\t==> False:\n",
            "\t\t\t\tPrediction: authentic\n",
            "\t==> False:\n",
            "\t\tcurtosis >= 6.7756\n",
            "\t\t==> True:\n",
            "\t\t\tskewness >= -1.7775\n",
            "\t\t\t==> True:\n",
            "\t\t\t\tPrediction: inauthentic\n",
            "\t\t\t==> False:\n",
            "\t\t\t\tvariance >= -0.16108\n",
            "\t\t\t\t==> True:\n",
            "\t\t\t\t\tPrediction: inauthentic\n",
            "\t\t\t\t==> False:\n",
            "\t\t\t\t\tPrediction: authentic\n",
            "\t\t==> False:\n",
            "\t\t\tskewness >= 5.8974\n",
            "\t\t\t==> True:\n",
            "\t\t\t\tentropy >= -2.4746\n",
            "\t\t\t\t==> True:\n",
            "\t\t\t\t\tPrediction: inauthentic\n",
            "\t\t\t\t==> False:\n",
            "\t\t\t\t\tPrediction: authentic\n",
            "\t\t\t==> False:\n",
            "\t\t\t\tcurtosis >= 3.1143\n",
            "\t\t\t\t==> True:\n",
            "\t\t\t\t\tskewness >= -0.17797\n",
            "\t\t\t\t\t==> True:\n",
            "\t\t\t\t\t\tPrediction: inauthentic\n",
            "\t\t\t\t\t==> False:\n",
            "\t\t\t\t\t\tPrediction: authentic\n",
            "\t\t\t\t==> False:\n",
            "\t\t\t\t\tPrediction: authentic\n"
          ]
        }
      ]
    },
    {
      "cell_type": "markdown",
      "metadata": {
        "id": "4pKAuy3ZNX5l"
      },
      "source": [
        "### **Results**"
      ]
    },
    {
      "cell_type": "code",
      "metadata": {
        "colab": {
          "base_uri": "https://localhost:8080/"
        },
        "id": "5M_0Us6LHCxZ",
        "outputId": "ac871002-4331-4253-e183-1bceb2e8c7d1"
      },
      "source": [
        "# display the percentage of each class/label in the training data used\n",
        "\n",
        "print('Percentage of \\'authentic\\' samples in training set: {0}%'\n",
        "  .format(class_counts(training)['authentic'] / len(training)))\n",
        "print('Percentage of \\'inauthentic\\' samples in training set: {0}%\\n'\n",
        "  .format(class_counts(training)['inauthentic'] / len(training)))\n",
        "\n",
        "# print the actual and predicted label for the testing samples\n",
        "# print an accuracy score by calculating num_correct / total num_samples\n",
        "\n",
        "num_correct = 0\n",
        "num_samples = len(testing)\n",
        "\n",
        "for sample in testing:\n",
        "    if sample[-1] == classify(sample, dtc):\n",
        "      # correct predicition\n",
        "      num_correct += 1\n",
        "      print('Actual: {0}, Predicted: {1}'.format(sample[-1], classify(sample, dtc)))\n",
        "    else:\n",
        "      # incorrect - output sample for investigation\n",
        "      print('Actual: {0}, Predicted: {1} {2}'\n",
        "        .format(sample[-1], classify(sample, dtc), sample))\n",
        "\n",
        "    \n",
        "print('=======================')\n",
        "print('Accuracy: {0}%'.format(num_correct / num_samples))"
      ],
      "execution_count": null,
      "outputs": [
        {
          "output_type": "stream",
          "name": "stdout",
          "text": [
            "Percentage of 'authentic' samples in training set: 0.43624772313296906%\n",
            "Percentage of 'inauthentic' samples in training set: 0.563752276867031%\n",
            "\n",
            "Actual: 1, Predicted: 1\n",
            "Actual: 1, Predicted: 1\n",
            "Actual: 1, Predicted: 1\n",
            "Actual: 1, Predicted: 1\n",
            "Actual: 0, Predicted: 0\n",
            "Actual: 0, Predicted: 0\n",
            "Actual: 1, Predicted: 1\n",
            "Actual: 1, Predicted: 1\n",
            "Actual: 1, Predicted: 1\n",
            "Actual: 0, Predicted: 0\n",
            "Actual: 0, Predicted: 0\n",
            "Actual: 0, Predicted: 0\n",
            "Actual: 0, Predicted: 0\n",
            "Actual: 0, Predicted: 0\n",
            "Actual: 1, Predicted: 1\n",
            "Actual: 1, Predicted: 1\n",
            "Actual: 1, Predicted: 1\n",
            "Actual: 1, Predicted: 1\n",
            "Actual: 0, Predicted: 0\n",
            "Actual: 1, Predicted: 1\n",
            "Actual: 1, Predicted: 0 [0.37637, -0.82358, 0.78543, 0.74524, '1']\n",
            "Actual: 0, Predicted: 1 [1.4806, 7.6377, -2.7876, -1.0341, '0']\n",
            "Actual: 1, Predicted: 1\n",
            "Actual: 0, Predicted: 0\n",
            "Actual: 1, Predicted: 1\n",
            "Actual: 0, Predicted: 0\n",
            "Actual: 0, Predicted: 0\n",
            "Actual: 0, Predicted: 0\n",
            "Actual: 0, Predicted: 0\n",
            "Actual: 0, Predicted: 0\n",
            "Actual: 0, Predicted: 0\n",
            "Actual: 0, Predicted: 0\n",
            "Actual: 0, Predicted: 0\n",
            "Actual: 1, Predicted: 1\n",
            "Actual: 1, Predicted: 1\n",
            "Actual: 0, Predicted: 0\n",
            "Actual: 1, Predicted: 1\n",
            "Actual: 0, Predicted: 0\n",
            "Actual: 1, Predicted: 1\n",
            "Actual: 1, Predicted: 1\n",
            "Actual: 0, Predicted: 0\n",
            "Actual: 0, Predicted: 0\n",
            "Actual: 0, Predicted: 0\n",
            "Actual: 0, Predicted: 0\n",
            "Actual: 1, Predicted: 1\n",
            "Actual: 1, Predicted: 1\n",
            "Actual: 1, Predicted: 1\n",
            "Actual: 1, Predicted: 1\n",
            "Actual: 1, Predicted: 1\n",
            "Actual: 0, Predicted: 0\n",
            "Actual: 1, Predicted: 1\n",
            "Actual: 0, Predicted: 0\n",
            "Actual: 0, Predicted: 0\n",
            "Actual: 1, Predicted: 1\n",
            "Actual: 0, Predicted: 0\n",
            "Actual: 1, Predicted: 1\n",
            "Actual: 1, Predicted: 1\n",
            "Actual: 0, Predicted: 0\n",
            "Actual: 1, Predicted: 1\n",
            "Actual: 1, Predicted: 1\n",
            "Actual: 0, Predicted: 0\n",
            "Actual: 1, Predicted: 1\n",
            "Actual: 1, Predicted: 0 [0.3434, 0.12415, -0.28733, 0.14654, '1']\n",
            "Actual: 0, Predicted: 0\n",
            "Actual: 0, Predicted: 0\n",
            "Actual: 1, Predicted: 1\n",
            "Actual: 1, Predicted: 1\n",
            "Actual: 0, Predicted: 0\n",
            "Actual: 1, Predicted: 1\n",
            "Actual: 0, Predicted: 0\n",
            "Actual: 0, Predicted: 0\n",
            "Actual: 1, Predicted: 1\n",
            "Actual: 0, Predicted: 0\n",
            "Actual: 1, Predicted: 1\n",
            "Actual: 1, Predicted: 1\n",
            "Actual: 1, Predicted: 1\n",
            "Actual: 1, Predicted: 1\n",
            "Actual: 1, Predicted: 1\n",
            "Actual: 0, Predicted: 0\n",
            "Actual: 0, Predicted: 0\n",
            "Actual: 0, Predicted: 0\n",
            "Actual: 0, Predicted: 0\n",
            "Actual: 0, Predicted: 0\n",
            "Actual: 1, Predicted: 1\n",
            "Actual: 0, Predicted: 0\n",
            "Actual: 1, Predicted: 1\n",
            "Actual: 0, Predicted: 0\n",
            "Actual: 1, Predicted: 1\n",
            "Actual: 0, Predicted: 0\n",
            "Actual: 0, Predicted: 0\n",
            "Actual: 1, Predicted: 1\n",
            "Actual: 1, Predicted: 1\n",
            "Actual: 1, Predicted: 1\n",
            "Actual: 1, Predicted: 1\n",
            "Actual: 0, Predicted: 0\n",
            "Actual: 0, Predicted: 0\n",
            "Actual: 0, Predicted: 0\n",
            "Actual: 1, Predicted: 1\n",
            "Actual: 0, Predicted: 0\n",
            "Actual: 1, Predicted: 1\n",
            "Actual: 0, Predicted: 0\n",
            "Actual: 1, Predicted: 1\n",
            "Actual: 1, Predicted: 1\n",
            "Actual: 1, Predicted: 1\n",
            "Actual: 0, Predicted: 0\n",
            "Actual: 1, Predicted: 1\n",
            "Actual: 1, Predicted: 1\n",
            "Actual: 1, Predicted: 1\n",
            "Actual: 1, Predicted: 1\n",
            "Actual: 1, Predicted: 1\n",
            "Actual: 1, Predicted: 1\n",
            "Actual: 0, Predicted: 0\n",
            "Actual: 1, Predicted: 1\n",
            "Actual: 0, Predicted: 0\n",
            "Actual: 0, Predicted: 0\n",
            "Actual: 1, Predicted: 1\n",
            "Actual: 0, Predicted: 0\n",
            "Actual: 1, Predicted: 1\n",
            "Actual: 0, Predicted: 0\n",
            "Actual: 0, Predicted: 0\n",
            "Actual: 0, Predicted: 0\n",
            "Actual: 1, Predicted: 1\n",
            "Actual: 0, Predicted: 0\n",
            "Actual: 0, Predicted: 0\n",
            "Actual: 1, Predicted: 1\n",
            "Actual: 0, Predicted: 0\n",
            "Actual: 1, Predicted: 1\n",
            "Actual: 0, Predicted: 0\n",
            "Actual: 1, Predicted: 1\n",
            "Actual: 0, Predicted: 0\n",
            "Actual: 0, Predicted: 0\n",
            "Actual: 1, Predicted: 1\n",
            "Actual: 1, Predicted: 1\n",
            "Actual: 0, Predicted: 0\n",
            "Actual: 1, Predicted: 1\n",
            "Actual: 0, Predicted: 0\n",
            "Actual: 1, Predicted: 1\n",
            "Actual: 1, Predicted: 1\n",
            "Actual: 0, Predicted: 0\n",
            "Actual: 1, Predicted: 1\n",
            "Actual: 1, Predicted: 1\n",
            "Actual: 1, Predicted: 1\n",
            "Actual: 0, Predicted: 0\n",
            "Actual: 1, Predicted: 1\n",
            "Actual: 0, Predicted: 0\n",
            "Actual: 0, Predicted: 0\n",
            "Actual: 0, Predicted: 0\n",
            "Actual: 1, Predicted: 1\n",
            "Actual: 1, Predicted: 1\n",
            "Actual: 0, Predicted: 0\n",
            "Actual: 1, Predicted: 1\n",
            "Actual: 0, Predicted: 0\n",
            "Actual: 1, Predicted: 1\n",
            "Actual: 0, Predicted: 0\n",
            "Actual: 0, Predicted: 1 [-2.7419, 11.4038, 2.5394, -5.5793, '0']\n",
            "Actual: 0, Predicted: 0\n",
            "Actual: 0, Predicted: 0\n",
            "Actual: 1, Predicted: 1\n",
            "Actual: 0, Predicted: 0\n",
            "Actual: 1, Predicted: 1\n",
            "Actual: 0, Predicted: 0\n",
            "Actual: 0, Predicted: 0\n",
            "Actual: 1, Predicted: 1\n",
            "Actual: 0, Predicted: 0\n",
            "Actual: 1, Predicted: 0 [0.40614, 1.3492, -1.4501, -0.55949, '1']\n",
            "Actual: 0, Predicted: 0\n",
            "Actual: 0, Predicted: 0\n",
            "Actual: 1, Predicted: 1\n",
            "Actual: 1, Predicted: 0 [0.6005, 0.99945, -2.2126, 0.097399, '1']\n",
            "Actual: 0, Predicted: 0\n",
            "Actual: 0, Predicted: 0\n",
            "Actual: 1, Predicted: 1\n",
            "Actual: 1, Predicted: 1\n",
            "Actual: 0, Predicted: 0\n",
            "Actual: 0, Predicted: 0\n",
            "Actual: 1, Predicted: 1\n",
            "Actual: 0, Predicted: 0\n",
            "Actual: 1, Predicted: 1\n",
            "Actual: 0, Predicted: 0\n",
            "Actual: 1, Predicted: 1\n",
            "Actual: 0, Predicted: 0\n",
            "Actual: 1, Predicted: 1\n",
            "Actual: 1, Predicted: 1\n",
            "Actual: 1, Predicted: 1\n",
            "Actual: 0, Predicted: 0\n",
            "Actual: 0, Predicted: 0\n",
            "Actual: 0, Predicted: 1 [-0.64472, -4.6062, 8.347, -2.7099, '0']\n",
            "Actual: 1, Predicted: 1\n",
            "Actual: 1, Predicted: 1\n",
            "Actual: 0, Predicted: 0\n",
            "Actual: 0, Predicted: 0\n",
            "Actual: 0, Predicted: 0\n",
            "Actual: 0, Predicted: 0\n",
            "Actual: 1, Predicted: 1\n",
            "Actual: 0, Predicted: 0\n",
            "Actual: 0, Predicted: 0\n",
            "Actual: 0, Predicted: 0\n",
            "Actual: 1, Predicted: 1\n",
            "Actual: 1, Predicted: 1\n",
            "Actual: 0, Predicted: 0\n",
            "Actual: 1, Predicted: 1\n",
            "Actual: 1, Predicted: 1\n",
            "Actual: 1, Predicted: 1\n",
            "Actual: 0, Predicted: 0\n",
            "Actual: 1, Predicted: 1\n",
            "Actual: 0, Predicted: 0\n",
            "Actual: 1, Predicted: 1\n",
            "Actual: 0, Predicted: 0\n",
            "Actual: 0, Predicted: 0\n",
            "Actual: 0, Predicted: 0\n",
            "Actual: 0, Predicted: 0\n",
            "Actual: 0, Predicted: 0\n",
            "Actual: 1, Predicted: 1\n",
            "Actual: 1, Predicted: 1\n",
            "Actual: 1, Predicted: 1\n",
            "Actual: 0, Predicted: 0\n",
            "Actual: 0, Predicted: 0\n",
            "Actual: 0, Predicted: 0\n",
            "Actual: 0, Predicted: 0\n",
            "Actual: 0, Predicted: 0\n",
            "Actual: 0, Predicted: 0\n",
            "Actual: 0, Predicted: 0\n",
            "Actual: 1, Predicted: 1\n",
            "Actual: 0, Predicted: 0\n",
            "Actual: 0, Predicted: 0\n",
            "Actual: 1, Predicted: 1\n",
            "Actual: 1, Predicted: 1\n",
            "Actual: 0, Predicted: 0\n",
            "Actual: 1, Predicted: 1\n",
            "Actual: 1, Predicted: 1\n",
            "Actual: 0, Predicted: 0\n",
            "Actual: 0, Predicted: 0\n",
            "Actual: 1, Predicted: 1\n",
            "Actual: 0, Predicted: 0\n",
            "Actual: 1, Predicted: 1\n",
            "Actual: 0, Predicted: 0\n",
            "Actual: 1, Predicted: 1\n",
            "Actual: 1, Predicted: 1\n",
            "Actual: 0, Predicted: 0\n",
            "Actual: 0, Predicted: 0\n",
            "Actual: 0, Predicted: 0\n",
            "Actual: 0, Predicted: 0\n",
            "Actual: 0, Predicted: 0\n",
            "Actual: 1, Predicted: 1\n",
            "Actual: 1, Predicted: 1\n",
            "Actual: 0, Predicted: 0\n",
            "Actual: 0, Predicted: 0\n",
            "Actual: 0, Predicted: 0\n",
            "Actual: 1, Predicted: 1\n",
            "Actual: 1, Predicted: 1\n",
            "Actual: 1, Predicted: 1\n",
            "Actual: 0, Predicted: 0\n",
            "Actual: 1, Predicted: 1\n",
            "Actual: 0, Predicted: 0\n",
            "Actual: 0, Predicted: 0\n",
            "Actual: 0, Predicted: 0\n",
            "Actual: 0, Predicted: 0\n",
            "Actual: 1, Predicted: 1\n",
            "Actual: 1, Predicted: 1\n",
            "Actual: 0, Predicted: 0\n",
            "Actual: 1, Predicted: 1\n",
            "Actual: 1, Predicted: 1\n",
            "Actual: 1, Predicted: 1\n",
            "Actual: 0, Predicted: 0\n",
            "Actual: 1, Predicted: 1\n",
            "Actual: 0, Predicted: 0\n",
            "Actual: 0, Predicted: 0\n",
            "Actual: 0, Predicted: 0\n",
            "Actual: 0, Predicted: 0\n",
            "Actual: 0, Predicted: 0\n",
            "Actual: 1, Predicted: 1\n",
            "Actual: 1, Predicted: 1\n",
            "Actual: 1, Predicted: 1\n",
            "Actual: 0, Predicted: 0\n",
            "=======================\n",
            "Accuracy: 0.9744525547445255%\n"
          ]
        }
      ]
    }
  ]
}